{
  "nbformat": 4,
  "nbformat_minor": 0,
  "metadata": {
    "colab": {
      "provenance": [],
      "authorship_tag": "ABX9TyMMY+XytA8eedAKOq9AEbKZ",
      "include_colab_link": true
    },
    "kernelspec": {
      "name": "python3",
      "display_name": "Python 3"
    },
    "language_info": {
      "name": "python"
    }
  },
  "cells": [
    {
      "cell_type": "markdown",
      "metadata": {
        "id": "view-in-github",
        "colab_type": "text"
      },
      "source": [
        "<a href=\"https://colab.research.google.com/github/SaidurIUT/CampusX-Data-Science-Mentorship-Program/blob/main/1_Python_Fundamentals.ipynb\" target=\"_parent\"><img src=\"https://colab.research.google.com/assets/colab-badge.svg\" alt=\"Open In Colab\"/></a>"
      ]
    },
    {
      "cell_type": "markdown",
      "source": [
        "# 1. Python Output\n"
      ],
      "metadata": {
        "id": "-gURO_KgeFYs"
      }
    },
    {
      "cell_type": "code",
      "execution_count": null,
      "metadata": {
        "colab": {
          "base_uri": "https://localhost:8080/"
        },
        "id": "AlQKf0wG9sSJ",
        "outputId": "680b435b-82b6-4751-da02-3295a375eacd"
      },
      "outputs": [
        {
          "output_type": "stream",
          "name": "stdout",
          "text": [
            "Hello World\n",
            "Hello World 2\n",
            "He said \"hello\"\n",
            "He said 'hello'\n",
            "I'm happy\n",
            "I'm happy\n"
          ]
        }
      ],
      "source": [
        "print('Hello World')\n",
        "print(\"Hello World 2\")\n",
        "print('He said \"hello\"')\n",
        "print(\"He said 'hello'\")\n",
        "print('I\\'m happy')\n",
        "print (\"I'm happy\")"
      ]
    },
    {
      "cell_type": "code",
      "source": [
        "print(7)"
      ],
      "metadata": {
        "colab": {
          "base_uri": "https://localhost:8080/"
        },
        "id": "6Auv9-16eUJT",
        "outputId": "a1477bfe-0a50-48ff-d376-4412dcddbc2e"
      },
      "execution_count": null,
      "outputs": [
        {
          "output_type": "stream",
          "name": "stdout",
          "text": [
            "7\n"
          ]
        }
      ]
    },
    {
      "cell_type": "code",
      "source": [
        "print(45.2435)"
      ],
      "metadata": {
        "colab": {
          "base_uri": "https://localhost:8080/"
        },
        "id": "cYEzMNtpfS77",
        "outputId": "c9cc90ed-5a05-4bd8-a636-748bf9c66566"
      },
      "execution_count": null,
      "outputs": [
        {
          "output_type": "stream",
          "name": "stdout",
          "text": [
            "45.2435\n"
          ]
        }
      ]
    },
    {
      "cell_type": "code",
      "source": [
        "print(True)"
      ],
      "metadata": {
        "colab": {
          "base_uri": "https://localhost:8080/"
        },
        "id": "cP_VJL8dfWyq",
        "outputId": "a822aed5-f508-469b-d56b-1511145db0ca"
      },
      "execution_count": null,
      "outputs": [
        {
          "output_type": "stream",
          "name": "stdout",
          "text": [
            "True\n"
          ]
        }
      ]
    },
    {
      "cell_type": "code",
      "source": [
        "print(\"hello\",1,True )"
      ],
      "metadata": {
        "colab": {
          "base_uri": "https://localhost:8080/"
        },
        "id": "JU5063z8fZBx",
        "outputId": "a6614afb-2ff5-48b2-9a50-8a800e90967d"
      },
      "execution_count": null,
      "outputs": [
        {
          "output_type": "stream",
          "name": "stdout",
          "text": [
            "hello 1 True\n"
          ]
        }
      ]
    },
    {
      "cell_type": "code",
      "source": [
        "print(\"hello\",1,True,sep='|')"
      ],
      "metadata": {
        "colab": {
          "base_uri": "https://localhost:8080/"
        },
        "id": "Qnpw1A0GfmDV",
        "outputId": "254e2c29-ba95-480a-8f23-c5494088f885"
      },
      "execution_count": null,
      "outputs": [
        {
          "output_type": "stream",
          "name": "stdout",
          "text": [
            "hello|1|True\n"
          ]
        }
      ]
    },
    {
      "cell_type": "code",
      "source": [
        "print(\"hello\",1,True,sep='')"
      ],
      "metadata": {
        "colab": {
          "base_uri": "https://localhost:8080/"
        },
        "id": "5bS--Ef4f5Aq",
        "outputId": "3bbee32d-df93-42c2-f9f4-6eaad9720dd6"
      },
      "execution_count": null,
      "outputs": [
        {
          "output_type": "stream",
          "name": "stdout",
          "text": [
            "hello1True\n"
          ]
        }
      ]
    },
    {
      "cell_type": "code",
      "source": [
        "print('hello',end='_')\n",
        "print('world')"
      ],
      "metadata": {
        "colab": {
          "base_uri": "https://localhost:8080/"
        },
        "id": "tlok2Hv5f80P",
        "outputId": "53e0de17-2d27-42eb-dd12-f65f91f318cc"
      },
      "execution_count": null,
      "outputs": [
        {
          "output_type": "stream",
          "name": "stdout",
          "text": [
            "hello_world\n"
          ]
        }
      ]
    },
    {
      "cell_type": "markdown",
      "source": [
        "# 2. Data Types\n"
      ],
      "metadata": {
        "id": "_d3yFzrDgc76"
      }
    },
    {
      "cell_type": "code",
      "source": [
        "print(1e308)\n",
        "print(1e309)\n",
        "print(4236578246578423658724659078246507924658790234658724026495387234750247560137765702489567210597624305972650294765109374665024567287465243780562465724650765340789564376547236+ 7942345907856423097562347905634980756342907563249705602347898560234765304927650324965092347650247938652349780537679035896346213482167701467347018956430766572437906574923650289473652347809562405978246390574235796423)"
      ],
      "metadata": {
        "colab": {
          "base_uri": "https://localhost:8080/"
        },
        "id": "9flOHggWghCF",
        "outputId": "41dea8bc-e779-4d11-de19-332cfae45a88"
      },
      "execution_count": null,
      "outputs": [
        {
          "output_type": "stream",
          "name": "stdout",
          "text": [
            "1e+308\n",
            "inf\n",
            "7942345907856423097562347905634980756342911799827952180771557284893843551435574983755327006374274434039584530785239173662048703049378299091652991606725531681812571599490937754717432910275287056743587180138612343659\n"
          ]
        }
      ]
    },
    {
      "cell_type": "code",
      "source": [
        "print(1.7e308)\n",
        "print(1.8e308)\n",
        "print(1.7e309)"
      ],
      "metadata": {
        "colab": {
          "base_uri": "https://localhost:8080/"
        },
        "id": "hVt4Ck1bgvcE",
        "outputId": "8aeef19f-8412-4c3a-e908-c68cec987b42"
      },
      "execution_count": null,
      "outputs": [
        {
          "output_type": "stream",
          "name": "stdout",
          "text": [
            "1.7e+308\n",
            "inf\n",
            "inf\n"
          ]
        }
      ]
    },
    {
      "cell_type": "code",
      "source": [
        "print(5+ 6j+7j+11 )"
      ],
      "metadata": {
        "colab": {
          "base_uri": "https://localhost:8080/"
        },
        "id": "DRedJsichKNC",
        "outputId": "949a62ec-5581-4a67-db4d-8fbb71c09ece"
      },
      "execution_count": null,
      "outputs": [
        {
          "output_type": "stream",
          "name": "stdout",
          "text": [
            "(16+13j)\n"
          ]
        }
      ]
    },
    {
      "cell_type": "code",
      "source": [
        "# List\n",
        "\n",
        "print([1,2,3,4,53455,425])"
      ],
      "metadata": {
        "colab": {
          "base_uri": "https://localhost:8080/"
        },
        "id": "gxC8H95ZhiAR",
        "outputId": "aa6c7064-5554-4748-f96b-78dcc9a6bcb1"
      },
      "execution_count": null,
      "outputs": [
        {
          "output_type": "stream",
          "name": "stdout",
          "text": [
            "[1, 2, 3, 4, 53455, 425]\n"
          ]
        }
      ]
    },
    {
      "cell_type": "code",
      "source": [
        "# Tuple\n",
        "\n",
        "print((45423,435346,356356,365635))"
      ],
      "metadata": {
        "colab": {
          "base_uri": "https://localhost:8080/"
        },
        "id": "Tqyhz4qahz9t",
        "outputId": "c2d079ea-1835-440f-a449-ecf692b7d821"
      },
      "execution_count": null,
      "outputs": [
        {
          "output_type": "stream",
          "name": "stdout",
          "text": [
            "(45423, 435346, 356356, 365635)\n"
          ]
        }
      ]
    },
    {
      "cell_type": "code",
      "source": [
        " # setsf\n",
        "print({25,35635,635,6243})"
      ],
      "metadata": {
        "colab": {
          "base_uri": "https://localhost:8080/"
        },
        "id": "3OjUTkJSh67e",
        "outputId": "315f7754-dcef-42b9-841a-8737fd6904fe"
      },
      "execution_count": null,
      "outputs": [
        {
          "output_type": "stream",
          "name": "stdout",
          "text": [
            "{35635, 25, 635, 6243}\n"
          ]
        }
      ]
    },
    {
      "cell_type": "code",
      "source": [
        "# Dictionary\n",
        "print({'name':'saeed', 'gender':'male'})"
      ],
      "metadata": {
        "colab": {
          "base_uri": "https://localhost:8080/"
        },
        "id": "3rQ02vf8iOux",
        "outputId": "e8978624-cb4c-425d-fd3e-0bc00864ab38"
      },
      "execution_count": null,
      "outputs": [
        {
          "output_type": "stream",
          "name": "stdout",
          "text": [
            "{'name': 'saeed', 'gender': 'male'}\n"
          ]
        }
      ]
    },
    {
      "cell_type": "code",
      "source": [
        "type(1)"
      ],
      "metadata": {
        "colab": {
          "base_uri": "https://localhost:8080/"
        },
        "id": "mM2Nrx4ziied",
        "outputId": "e3081d2a-4c6c-4d32-ee03-f107604a66ae"
      },
      "execution_count": null,
      "outputs": [
        {
          "output_type": "execute_result",
          "data": {
            "text/plain": [
              "int"
            ]
          },
          "metadata": {},
          "execution_count": 36
        }
      ]
    },
    {
      "cell_type": "code",
      "source": [
        "type(3.5)\n"
      ],
      "metadata": {
        "colab": {
          "base_uri": "https://localhost:8080/"
        },
        "id": "sfW9mlaCjNGE",
        "outputId": "b42bde9e-3227-4a08-e736-3b88af9f50cd"
      },
      "execution_count": null,
      "outputs": [
        {
          "output_type": "execute_result",
          "data": {
            "text/plain": [
              "list"
            ]
          },
          "metadata": {},
          "execution_count": 33
        }
      ]
    },
    {
      "cell_type": "code",
      "source": [
        "type({2,6,4,3})"
      ],
      "metadata": {
        "colab": {
          "base_uri": "https://localhost:8080/"
        },
        "id": "rgJLEC7ijSW6",
        "outputId": "200b1fca-9cfa-46fa-cd1b-50fccc438b49"
      },
      "execution_count": null,
      "outputs": [
        {
          "output_type": "execute_result",
          "data": {
            "text/plain": [
              "set"
            ]
          },
          "metadata": {},
          "execution_count": 37
        }
      ]
    },
    {
      "cell_type": "code",
      "source": [
        "type((2,4,6,3))"
      ],
      "metadata": {
        "colab": {
          "base_uri": "https://localhost:8080/"
        },
        "id": "bJZfcdyGjUrc",
        "outputId": "059d98b4-8346-4111-9b37-cc778f67b535"
      },
      "execution_count": null,
      "outputs": [
        {
          "output_type": "execute_result",
          "data": {
            "text/plain": [
              "tuple"
            ]
          },
          "metadata": {},
          "execution_count": 38
        }
      ]
    },
    {
      "cell_type": "code",
      "source": [
        "type([4,4,377,8])"
      ],
      "metadata": {
        "colab": {
          "base_uri": "https://localhost:8080/"
        },
        "id": "DWybSTRfjW0a",
        "outputId": "5326e24c-adbd-49ba-cc72-6d20a93335c3"
      },
      "execution_count": null,
      "outputs": [
        {
          "output_type": "execute_result",
          "data": {
            "text/plain": [
              "list"
            ]
          },
          "metadata": {},
          "execution_count": 39
        }
      ]
    },
    {
      "cell_type": "markdown",
      "source": [
        "# 3. Variables"
      ],
      "metadata": {
        "id": "CjIJxslrjesL"
      }
    },
    {
      "cell_type": "code",
      "source": [
        "name = 'saeed'\n",
        "print(name)"
      ],
      "metadata": {
        "colab": {
          "base_uri": "https://localhost:8080/"
        },
        "id": "Sk9D_87-jh5s",
        "outputId": "dba7b26e-43df-4f3d-e29b-1ec28a1a26c8"
      },
      "execution_count": null,
      "outputs": [
        {
          "output_type": "stream",
          "name": "stdout",
          "text": [
            "saeed\n"
          ]
        }
      ]
    },
    {
      "cell_type": "code",
      "source": [
        "a = 1\n",
        "b = 2\n",
        "c = 3\n",
        "\n",
        "print(a, b, c)"
      ],
      "metadata": {
        "id": "34xzx5uWjqGA",
        "outputId": "951df4e8-7bda-469e-dea6-ba1acfdd1b4f",
        "colab": {
          "base_uri": "https://localhost:8080/"
        }
      },
      "execution_count": null,
      "outputs": [
        {
          "output_type": "stream",
          "name": "stdout",
          "text": [
            "1 2 3\n"
          ]
        }
      ]
    },
    {
      "cell_type": "code",
      "source": [
        "d,e,f = 3,5,6\n",
        "print(d,e,f)"
      ],
      "metadata": {
        "id": "A2W18pa5fbW4",
        "colab": {
          "base_uri": "https://localhost:8080/"
        },
        "outputId": "b06211ff-d612-4b1a-c725-a49c0b3290ed"
      },
      "execution_count": null,
      "outputs": [
        {
          "output_type": "stream",
          "name": "stdout",
          "text": [
            "3 5 6\n"
          ]
        }
      ]
    },
    {
      "cell_type": "code",
      "source": [
        "a=b=c=10\n",
        "print(a,b,c)"
      ],
      "metadata": {
        "id": "DLyoLZtTx3dz",
        "colab": {
          "base_uri": "https://localhost:8080/"
        },
        "outputId": "4b60f842-2d3f-411d-a57d-61b59717b1a4"
      },
      "execution_count": 1,
      "outputs": [
        {
          "output_type": "stream",
          "name": "stdout",
          "text": [
            "10 10 10\n"
          ]
        }
      ]
    },
    {
      "cell_type": "markdown",
      "source": [
        "# 4. User input\n",
        "\n"
      ],
      "metadata": {
        "id": "UUEQzlEfTyVu"
      }
    },
    {
      "cell_type": "code",
      "source": [
        "a= input(\"Enter yor name\")\n",
        "print(\"Your name is: \" + a)"
      ],
      "metadata": {
        "colab": {
          "base_uri": "https://localhost:8080/"
        },
        "id": "m5_jAbvbTh4T",
        "outputId": "152fef55-3cd6-4a08-a1e9-84f3077f337d"
      },
      "execution_count": 2,
      "outputs": [
        {
          "output_type": "stream",
          "name": "stdout",
          "text": [
            "Enter yor nameSaeed\n",
            "Your name is: Saeed\n"
          ]
        }
      ]
    },
    {
      "cell_type": "code",
      "source": [
        "fnum = input(\"Enter your first number: \")\n",
        "snum = input(\"Enter your second number: \")\n",
        "\n",
        "result = int(fnum) + int(snum)\n",
        "\n",
        "print(result)\n",
        "\n",
        "print(type(fnum))"
      ],
      "metadata": {
        "colab": {
          "base_uri": "https://localhost:8080/"
        },
        "id": "tjx9ZTxtx3OV",
        "outputId": "9c44fcb9-6627-457b-a7f4-99ba66191725"
      },
      "execution_count": 4,
      "outputs": [
        {
          "output_type": "stream",
          "name": "stdout",
          "text": [
            "Enter your first number: 35\n",
            "Enter your second number: 245\n",
            "280\n",
            "<class 'str'>\n"
          ]
        }
      ]
    },
    {
      "cell_type": "markdown",
      "source": [
        "# 5. Literals\n"
      ],
      "metadata": {
        "id": "EqRGjJmEAKBK"
      }
    },
    {
      "cell_type": "code",
      "source": [
        "# binary\n",
        "\n",
        "a = 0b1010\n",
        "print(a)"
      ],
      "metadata": {
        "colab": {
          "base_uri": "https://localhost:8080/"
        },
        "id": "Pd21-LbM661h",
        "outputId": "b5738ff0-75c2-41a2-cedf-ab20408fba30"
      },
      "execution_count": 6,
      "outputs": [
        {
          "output_type": "stream",
          "name": "stdout",
          "text": [
            "10\n"
          ]
        }
      ]
    },
    {
      "cell_type": "code",
      "source": [
        "# octal\n",
        "\n",
        "octal = 0o36345\n",
        "print(octal)"
      ],
      "metadata": {
        "colab": {
          "base_uri": "https://localhost:8080/"
        },
        "id": "Qcfd8W6UAU1I",
        "outputId": "69b59b79-81ba-45b6-960e-213275803219"
      },
      "execution_count": 7,
      "outputs": [
        {
          "output_type": "stream",
          "name": "stdout",
          "text": [
            "15589\n"
          ]
        }
      ]
    },
    {
      "cell_type": "code",
      "source": [
        "# Hex\n",
        "\n",
        "hex = 0x23456c\n",
        "print(hex)"
      ],
      "metadata": {
        "colab": {
          "base_uri": "https://localhost:8080/"
        },
        "id": "T6PptkiFAiQJ",
        "outputId": "8e49d6aa-a5e0-4c34-b03d-774d23f1275d"
      },
      "execution_count": 8,
      "outputs": [
        {
          "output_type": "stream",
          "name": "stdout",
          "text": [
            "2311532\n"
          ]
        }
      ]
    },
    {
      "cell_type": "code",
      "source": [
        "print(1.5e3)"
      ],
      "metadata": {
        "colab": {
          "base_uri": "https://localhost:8080/"
        },
        "id": "6dw2CKFCAojO",
        "outputId": "6062b5f4-9d5f-41e2-9b74-6c3cc4404eb5"
      },
      "execution_count": 9,
      "outputs": [
        {
          "output_type": "stream",
          "name": "stdout",
          "text": [
            "1500.0\n"
          ]
        }
      ]
    },
    {
      "cell_type": "code",
      "source": [
        "print(1.5e-2)"
      ],
      "metadata": {
        "colab": {
          "base_uri": "https://localhost:8080/"
        },
        "id": "bYKbuZLWAyRz",
        "outputId": "bea289a4-df9f-4757-8268-5da416417aa0"
      },
      "execution_count": 11,
      "outputs": [
        {
          "output_type": "stream",
          "name": "stdout",
          "text": [
            "0.015\n"
          ]
        }
      ]
    },
    {
      "cell_type": "code",
      "source": [
        "# complex\n",
        "\n",
        "comp_num = 5+3j\n",
        "print(comp_num,comp_num.real,comp_num.imag)"
      ],
      "metadata": {
        "colab": {
          "base_uri": "https://localhost:8080/"
        },
        "id": "Beyzk-YDA2js",
        "outputId": "b6e8642a-5d93-485f-9bec-be864df94cd6"
      },
      "execution_count": 14,
      "outputs": [
        {
          "output_type": "stream",
          "name": "stdout",
          "text": [
            "(5+3j) 5.0 3.0\n"
          ]
        }
      ]
    },
    {
      "cell_type": "code",
      "source": [],
      "metadata": {
        "id": "ui8-gnbFBPby"
      },
      "execution_count": null,
      "outputs": []
    }
  ]
}